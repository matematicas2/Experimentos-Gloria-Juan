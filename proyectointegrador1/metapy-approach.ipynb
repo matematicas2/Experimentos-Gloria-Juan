{
 "cells": [
  {
   "cell_type": "code",
   "execution_count": 1,
   "metadata": {},
   "outputs": [],
   "source": [
    "import metapy\n",
    "import glob\n",
    "import re\n",
    "from pathlib import Path"
   ]
  },
  {
   "cell_type": "code",
   "execution_count": 10,
   "metadata": {},
   "outputs": [],
   "source": [
    "txt_path = Path('E:/OneDrive - CELSIA S.A E.S.P/Maestría/Almacenamiento/Tika/Tika/limpiados')\n",
    "\n",
    "file1 = open(\"E:/OneDrive - CELSIA S.A E.S.P/Maestría/Almacenamiento/proyectointegrador1/data/cranfield/cranfield.dat\",\"w\", encoding=\"utf-8\")\n",
    "indexFile = {}\n",
    "i = 0\n",
    "for file in txt_path.glob('*.txt'):\n",
    "    #Leer Informacion\n",
    "    auxkey = str(file).split('\\\\')[-1]\n",
    "    indexFile[i] = auxkey\n",
    "    i = i+1\n",
    "    input_file = open(file,\"r\",encoding='utf-8')\n",
    "    texto = input_file.read().replace('\\n',' ')\n",
    "    texto = re.sub('[^A-Za-z0-9]+',' ',texto).lower()\n",
    "    file1.writelines(texto+'\\n')\n",
    "file1.close()"
   ]
  },
  {
   "cell_type": "code",
   "execution_count": 2,
   "metadata": {},
   "outputs": [],
   "source": [
    "inv_idx = metapy.index.make_inverted_index('cranfield.toml')"
   ]
  },
  {
   "cell_type": "code",
   "execution_count": 3,
   "metadata": {},
   "outputs": [
    {
     "data": {
      "text/plain": [
       "980"
      ]
     },
     "execution_count": 3,
     "metadata": {},
     "output_type": "execute_result"
    }
   ],
   "source": [
    "inv_idx.num_docs()\n",
    "inv_idx.unique_terms()\n",
    "inv_idx.avg_doc_length()"
   ]
  },
  {
   "cell_type": "code",
   "execution_count": 4,
   "metadata": {},
   "outputs": [
    {
     "data": {
      "text/plain": [
       "51229"
      ]
     },
     "execution_count": 4,
     "metadata": {},
     "output_type": "execute_result"
    }
   ],
   "source": [
    "inv_idx.unique_terms()"
   ]
  },
  {
   "cell_type": "code",
   "execution_count": 5,
   "metadata": {},
   "outputs": [
    {
     "data": {
      "text/plain": [
       "3984.62646484375"
      ]
     },
     "execution_count": 5,
     "metadata": {},
     "output_type": "execute_result"
    }
   ],
   "source": [
    "inv_idx.avg_doc_length()"
   ]
  },
  {
   "cell_type": "code",
   "execution_count": 6,
   "metadata": {},
   "outputs": [
    {
     "data": {
      "text/plain": [
       "3904934"
      ]
     },
     "execution_count": 6,
     "metadata": {},
     "output_type": "execute_result"
    }
   ],
   "source": [
    "inv_idx.total_corpus_terms()"
   ]
  },
  {
   "cell_type": "code",
   "execution_count": 7,
   "metadata": {},
   "outputs": [
    {
     "data": {
      "text/plain": [
       "[(16, 6.045909881591797),\n",
       " (61, 6.045837879180908),\n",
       " (67, 6.036706924438477),\n",
       " (4, 6.029265403747559),\n",
       " (357, 6.022237300872803),\n",
       " (739, 6.022045612335205),\n",
       " (448, 6.0127387046813965),\n",
       " (837, 6.012532711029053),\n",
       " (789, 6.01225471496582),\n",
       " (53, 6.011903762817383)]"
      ]
     },
     "execution_count": 7,
     "metadata": {},
     "output_type": "execute_result"
    }
   ],
   "source": [
    "ranker = metapy.index.OkapiBM25()\n",
    "query = metapy.index.Document()\n",
    "query.content(\"quantum\") # query from AP news\n",
    "\n",
    "top_docs = ranker.score(inv_idx, query, num_results=10)\n",
    "top_docs"
   ]
  },
  {
   "cell_type": "code",
   "execution_count": 16,
   "metadata": {},
   "outputs": [
    {
     "name": "stdout",
     "output_type": "stream",
     "text": [
      "0910.2912.txt\n",
      "1106.1445.txt\n",
      "1108.1915.txt\n",
      "0808.0084.txt\n",
      "1405.0149.txt\n",
      "1507.01988.txt\n",
      "1409.6777.txt\n",
      "1509.05001.txt\n",
      "1508.02521.txt\n",
      "1104.0471.txt\n"
     ]
    }
   ],
   "source": [
    "for doc in top_docs:\n",
    "    print(indexFile[doc[0]])"
   ]
  },
  {
   "cell_type": "code",
   "execution_count": 11,
   "metadata": {},
   "outputs": [
    {
     "data": {
      "text/plain": [
       "'0910.2912.txt'"
      ]
     },
     "execution_count": 11,
     "metadata": {},
     "output_type": "execute_result"
    }
   ],
   "source": []
  },
  {
   "cell_type": "code",
   "execution_count": null,
   "metadata": {},
   "outputs": [],
   "source": [
    "input_file = open(files_txt[1],\"r\",encoding='utf-8')\n",
    "texto = input_file.read().replace('\\n',' ')\n",
    "texto = re.sub('[^A-Za-z0-9]+',' ',texto).lower()\n",
    "texto"
   ]
  }
 ],
 "metadata": {
  "kernelspec": {
   "display_name": "Python 3",
   "language": "python",
   "name": "python3"
  },
  "language_info": {
   "codemirror_mode": {
    "name": "ipython",
    "version": 3
   },
   "file_extension": ".py",
   "mimetype": "text/x-python",
   "name": "python",
   "nbconvert_exporter": "python",
   "pygments_lexer": "ipython3",
   "version": "3.6.8"
  }
 },
 "nbformat": 4,
 "nbformat_minor": 2
}
